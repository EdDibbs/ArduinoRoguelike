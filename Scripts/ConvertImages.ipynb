{
 "cells": [
  {
   "cell_type": "code",
   "execution_count": 1,
   "metadata": {
    "collapsed": false
   },
   "outputs": [],
   "source": [
    "import png\n",
    "import math\n",
    "import glob\n",
    "import os\n",
    "import numpy as np;\n",
    "from IPython.display import Image"
   ]
  },
  {
   "cell_type": "code",
   "execution_count": null,
   "metadata": {
    "collapsed": false
   },
   "outputs": [],
   "source": []
  },
  {
   "cell_type": "code",
   "execution_count": 2,
   "metadata": {
    "collapsed": false
   },
   "outputs": [],
   "source": [
    "#returns the width and height (respectively) of the given img\n",
    "def getPngDimensions(filename):\n",
    "    img = png.Reader(filename).asDirect()\n",
    "    \n",
    "    vals = []\n",
    "    vals.append(img[0])\n",
    "    vals.append(img[1])\n",
    "    return vals"
   ]
  },
  {
   "cell_type": "code",
   "execution_count": 7,
   "metadata": {
    "collapsed": false
   },
   "outputs": [],
   "source": [
    "def getPixels(filename):\n",
    "    pic1 = png.Reader(filename).asRGBA()\n",
    "    rows = pic1[2]\n",
    "    pixels = []\n",
    "    pixelcount = 0\n",
    "    for row in rows:\n",
    "        count = 0\n",
    "        pixel = []\n",
    "        for entry in row:\n",
    "            pixel.append(entry)\n",
    "            count = count + 1\n",
    "            if (count == 4):\n",
    "                pixels.append(pixel)\n",
    "                pixel = []\n",
    "                pixelcount = pixelcount + 1\n",
    "                count = 0;\n",
    "    \n",
    "    return pixels\n",
    "\n",
    "\n",
    "def reencodeImageWithGivenBpp(pixels, inRbpp, inGbpp, inBbpp, outRbpp, outGbpp, outBbpp):\n",
    "    outpixels = []\n",
    "    for pixel in pixels:\n",
    "        outpixel = []\n",
    "        channelCount = 0\n",
    "        for channel in pixel:\n",
    "            numIn = -1\n",
    "            numOut = -1\n",
    "            colorchar = \"?\"\n",
    "            if channelCount == 0:\n",
    "                numIn = inRbpp\n",
    "                numOut = outRbpp\n",
    "                colorchar = \"R\"\n",
    "            elif channelCount == 1:\n",
    "                numIn = inGbpp\n",
    "                numOut = outGbpp\n",
    "                colorchar = \"G\"\n",
    "            elif channelCount == 2:\n",
    "                numIn = inBbpp\n",
    "                numOut = outBbpp\n",
    "                colorchar = \"B\"\n",
    "            elif channelCount == 3:\n",
    "                outpixel.append(channel)\n",
    "                break\n",
    "            \n",
    "            channelCount = channelCount + 1\n",
    "            \n",
    "            #find if we're upscaling or downscaling\n",
    "            #for downscaling, we need to divide our value by 2^(difference in powers)\n",
    "            #for upscaling, we need to multiply by the same value. We don't apply any dithering.\n",
    "            outval = 0;\n",
    "            if (numIn > numOut):\n",
    "                dif = numIn - numOut\n",
    "                factor = math.pow(2, dif)\n",
    "                outval = math.trunc(channel / factor)\n",
    "            else:\n",
    "                dif = numOut - numIn\n",
    "                factor = math.pow(2, dif)\n",
    "                outval = math.trunc(channel * factor)\n",
    "            \n",
    "            outpixel.append(outval)\n",
    "            \n",
    "            #print(colorchar + \": \" + str(channel) + \" --> \" + str(outval))\n",
    "        \n",
    "        outpixels.append(outpixel)\n",
    "        \n",
    "    return outpixels   "
   ]
  },
  {
   "cell_type": "code",
   "execution_count": 8,
   "metadata": {
    "collapsed": false
   },
   "outputs": [],
   "source": [
    "def ConvertPixelsToPngWriteable(pixels, width):\n",
    "    resultArray1 = []\n",
    "    resultArray2 = []\n",
    "    count = 0;\n",
    "    for pixel in pixels:\n",
    "        count = count + 1\n",
    "        \n",
    "        resultArray2.append(pixel[0])\n",
    "        resultArray2.append(pixel[1])\n",
    "        resultArray2.append(pixel[2])\n",
    "        \n",
    "        \n",
    "        if (count == width):\n",
    "            count = 0\n",
    "            resultArray1.append(resultArray2)\n",
    "            resultArray2 = []\n",
    "    \n",
    "    return resultArray1\n"
   ]
  },
  {
   "cell_type": "code",
   "execution_count": 9,
   "metadata": {
    "collapsed": false
   },
   "outputs": [],
   "source": [
    "def MakeDir(path):\n",
    "    #ignore exception saying it already exists\n",
    "    try: \n",
    "        os.makedirs(path)\n",
    "    except OSError:\n",
    "        if not os.path.isdir(path):\n",
    "            raise\n",
    "\n",
    "def ProcessFolder(outputImages=False):\n",
    "    outFile = open(\"output.txt\", 'w')\n",
    "    \n",
    "    for filename in glob.glob('*.png'):\n",
    "        print(\"Processing file: \" + filename)\n",
    "        imgdimensions = getPngDimensions(filename)\n",
    "        imgwidth = imgdimensions[0]\n",
    "        imgheight = imgdimensions[1]        \n",
    "        \n",
    "        inpixels = getPixels(filename)\n",
    "        outpixels = reencodeImageWithGivenBpp(inpixels, 8,8,8, 5,6,5)\n",
    "        if(outputImages):\n",
    "            altPixels = reencodeImageWithGivenBpp(outpixels, 5,6,5, 8,8,8)\n",
    "            altPixels = ConvertPixelsToPngWriteable(altPixels, imgwidth)\n",
    "\n",
    "            #try making the output directory\n",
    "            MakeDir(\"out/\")\n",
    "                    \n",
    "            alteredOutFile = open(\"out/\" + filename[:-4] + \"_out.png\", 'wb')\n",
    "            writer = png.Writer(size = imgdimensions)\n",
    "            writer.write(alteredOutFile, altPixels)\n",
    "            alteredOutFile.close()\n",
    "        \n",
    "        ##########################################\n",
    "        #write the entry\n",
    "        #get rid of the extension, uppercase everything, and replace spaces with underscores\n",
    "        spriteName = filename[:-4].upper().replace(\" \", \"_\") \n",
    "        \n",
    "        #define the width\n",
    "        outFile.write(\"const PROGMEM uint16_t \")\n",
    "        outFile.write(spriteName)\n",
    "        outFile.write(\"_WIDTH[] = {\")\n",
    "        outFile.write(str(imgwidth))\n",
    "        outFile.write(\"};\\r\\n\")\n",
    "        \n",
    "        #define the height\n",
    "        outFile.write(\"const PROGMEM uint16_t \")\n",
    "        outFile.write(spriteName)\n",
    "        outFile.write(\"_HEIGHT[] = {\")\n",
    "        outFile.write(str(imgheight))\n",
    "        outFile.write(\"};\\r\\n\")\n",
    "        \n",
    "        #define the actual pixels\n",
    "        outFile.write(\"const PROGMEM uint16_t \")\n",
    "        outFile.write(spriteName) \n",
    "        outFile.write(\"[] = {\")\n",
    "        \n",
    "        totNumPixels = imgheight * imgwidth\n",
    "        curpixel = 0\n",
    "        \n",
    "        #go through each pixel and calculate the integer representation\n",
    "        for pixel in outpixels:\n",
    "            outValue = 0;\n",
    "            channelCount = 0\n",
    "            curpixel = curpixel + 1\n",
    "            \n",
    "            for channel in pixel:\n",
    "                if channelCount == 3:                    \n",
    "                    break\n",
    "                \n",
    "                outValue = outValue | channel\n",
    "                #red has 5 bits, green has 6, and blue has 5\n",
    "                if channelCount == 0:\n",
    "                    outValue = outValue << 6\n",
    "                elif channelCount == 1:\n",
    "                    outValue = outValue << 5\n",
    "                    \n",
    "                #don't shift for the last 5 bits\n",
    "\n",
    "                channelCount = channelCount + 1        \n",
    "                \n",
    "            #write this vlue to our list of pixels\n",
    "            outFile.write(str(outValue))\n",
    "            \n",
    "            #don't put a comma after the last value\n",
    "            if(curpixel != totNumPixels):\n",
    "                outFile.write(\",\")\n",
    "                \n",
    "                    \n",
    "        outFile.write(\"};\\r\\n\\r\\n\")\n",
    "        \n",
    "        print(\"Finished processing entry: \" + filename)\n",
    "        \n",
    "    outFile.close()\n",
    "    \n",
    "    print(\"File saved to output.txt\")\n",
    "    \n"
   ]
  },
  {
   "cell_type": "code",
   "execution_count": 10,
   "metadata": {
    "collapsed": false
   },
   "outputs": [
    {
     "name": "stdout",
     "output_type": "stream",
     "text": [
      "Processing file: chest1.png\n",
      "Finished processing entry: chest1.png\n",
      "File saved to output.txt\n"
     ]
    }
   ],
   "source": [
    "ProcessFolder(True)"
   ]
  },
  {
   "cell_type": "code",
   "execution_count": null,
   "metadata": {
    "collapsed": false
   },
   "outputs": [],
   "source": []
  },
  {
   "cell_type": "code",
   "execution_count": null,
   "metadata": {
    "collapsed": true
   },
   "outputs": [],
   "source": []
  },
  {
   "cell_type": "code",
   "execution_count": null,
   "metadata": {
    "collapsed": true
   },
   "outputs": [],
   "source": []
  },
  {
   "cell_type": "code",
   "execution_count": null,
   "metadata": {
    "collapsed": true
   },
   "outputs": [],
   "source": []
  }
 ],
 "metadata": {
  "kernelspec": {
   "display_name": "Python 2",
   "language": "python",
   "name": "python2"
  },
  "language_info": {
   "codemirror_mode": {
    "name": "ipython",
    "version": 2
   },
   "file_extension": ".py",
   "mimetype": "text/x-python",
   "name": "python",
   "nbconvert_exporter": "python",
   "pygments_lexer": "ipython2",
   "version": "2.7.10"
  }
 },
 "nbformat": 4,
 "nbformat_minor": 0
}
